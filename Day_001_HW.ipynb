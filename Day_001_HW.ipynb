{
 "cells": [
  {
   "cell_type": "markdown",
   "metadata": {},
   "source": [
    "# 作業1"
   ]
  },
  {
   "cell_type": "markdown",
   "metadata": {},
   "source": [
    "\n",
    "*1. 你選的這組資料為何重要*\n",
    "======================\n",
    "\n",
    "  a. 根據現有資料研究考出高分的學生具備的特徵。\n",
    "\n",
    "\n",
    "\n",
    "*2. 資料從何而來 (tips: 譬如提供者是誰、以什麼方式蒐集)*\n",
    "===============================================\n",
    "   a. Marks secured by the students in college Source.<br />\n",
    "   b. Students Performance in Exams (https://www.kaggle.com/spscientist/students-performance-in-exams)\n",
    "   \n",
    "\n",
    "*3. 蒐集而來的資料型態為何*\n",
    "======================\n",
    "   a.結構化-cvs (COMMA SEPARATED VALUE)，檔案類型是以逗號分隔呈現。\n",
    "\n",
    "*4. 這組資料想解決的問題如何評估*\n",
    "=============================\n",
    "    \n",
    "* 想解決的問題：\n",
    "\n",
    "\t* 種族或是家長的學歷、所吃的午餐與學生成績高低是否有關係。\n",
    "\n",
    "* 如何評估:\n",
    "\n",
    "    1. 先分類學生分數的級距(標籤化)。\n",
    "    2. 利用決策樹來歸類不同級距所具備的特徵值。\n",
    "    3. 交叉驗證，確保不會overfitting or underfitting。\n",
    "    4. 驗證 (ROC)。\n",
    "\n"
   ]
  },
  {
   "cell_type": "markdown",
   "metadata": {},
   "source": [
    "# 作業2"
   ]
  },
  {
   "cell_type": "markdown",
   "metadata": {},
   "source": [
    "\n",
    "*想像你經營一個自由載客車隊，你希望能透過數據分析以提升業績，請你思考並描述你如何規劃整體的分析/解決方案：*\n",
    "============\n",
    "\n",
    "*1. 核心問題為何 (tips：如何定義 「提升業績 & 你的假設」)*\n",
    "============\n",
    "    \n",
    "\ta.能夠不漏接乘客或是提升載客率。\n",
    "\tb.假設特定時間內的載客需求是固定的。\n",
    "\n",
    "\n",
    "*2. 資料從何而來 (tips：哪些資料可能會對你想問的問題產生影響 & 資料如何蒐集)*\n",
    "===========\n",
    "    \n",
    "\ta.天氣、節日、乘客性別、是否有行李、是否需要身障功能車款。\n",
    "\tb.資料需求：過往車隊接送乘客的時間與地點。\n",
    "\n",
    "\n",
    "*3. 蒐集而來的資料型態為何*\n",
    "============\n",
    "\n",
    "    a.已結構化資料的CSV (COMMA SEPARATED VALUE)，檔案類型是以逗號分隔呈現。\n",
    "    \n",
    "\n",
    "*4. 你要回答的問題，其如何評估 (tips：你的假設如何驗證)*\n",
    "========\n",
    "\n",
    "\ta.回答的問題\n",
    "\t\t* 預估在不同地點與時段時，能夠有最充裕的車隊數量。\n",
    "        \n",
    "\tb. 如何評估\n",
    "\t\t* (思考中.....)\n",
    "\n"
   ]
  },
  {
   "cell_type": "markdown",
   "metadata": {},
   "source": [
    "# 作業3"
   ]
  },
  {
   "cell_type": "markdown",
   "metadata": {},
   "source": [
    "## 練習時間\n",
    "#### 請寫一個函式用來計算 Mean Square Error\n",
    "$ MSE = \\frac{1}{n}\\sum_{i=1}^{n}{(Y_i - \\hat{Y}_i)^2} $\n",
    "\n",
    "### Hint: [如何取平方](https://googoodesign.gitbooks.io/-ezpython/unit-1.html)"
   ]
  },
  {
   "cell_type": "code",
   "execution_count": 2,
   "metadata": {},
   "outputs": [
    {
     "name": "stderr",
     "output_type": "stream",
     "text": [
      "/home/bella/anaconda3/lib/python3.6/site-packages/matplotlib/font_manager.py:278: UserWarning: Matplotlib is building the font cache using fc-list. This may take a moment.\n",
      "  'Matplotlib is building the font cache using fc-list. '\n"
     ]
    }
   ],
   "source": [
    "import numpy as np\n",
    "import matplotlib.pyplot as plt"
   ]
  },
  {
   "cell_type": "code",
   "execution_count": 10,
   "metadata": {},
   "outputs": [],
   "source": [
    "def mean_squared_error(y, yp):\n",
    "    \"\"\"\n",
    "    請完成這個 Function 後往下執行\n",
    "    \"\"\"\n",
    "    return sum((y - yp) ** 2) / len(y)\n",
    "\n",
    "def mean_absolute_error(y, yp):\n",
    "    \n",
    "    return sum(abs(y - yp)) / len(y)"
   ]
  },
  {
   "cell_type": "code",
   "execution_count": 3,
   "metadata": {},
   "outputs": [
    {
     "data": {
      "image/png": "[encoded data removed]",
      "text/plain": [
       "<Figure size 432x288 with 1 Axes>"
      ]
     },
     "metadata": {},
     "output_type": "display_data"
    }
   ],
   "source": [
    "w = 3\n",
    "b = 0.5\n",
    "\n",
    "x_lin = np.linspace(0, 100, 101)\n",
    "\n",
    "y = (x_lin + np.random.randn(101) * 5) * w + b\n",
    "\n",
    "plt.plot(x_lin, y, 'b.', label = 'data points')\n",
    "plt.title(\"Assume we have data points\")\n",
    "plt.legend(loc = 2)\n",
    "plt.show()"
   ]
  },
  {
   "cell_type": "code",
   "execution_count": 4,
   "metadata": {},
   "outputs": [
    {
     "data": {
      "image/png": "[encoded data removed]",
      "text/plain": [
       "<Figure size 432x288 with 1 Axes>"
      ]
     },
     "metadata": {},
     "output_type": "display_data"
    }
   ],
   "source": [
    "y_hat = x_lin * w + b\n",
    "plt.plot(x_lin, y, 'b.', label = 'data')\n",
    "plt.plot(x_lin, y_hat, 'r-', label = 'prediction')\n",
    "plt.title(\"Assume we have data points (And the prediction)\")\n",
    "plt.legend(loc = 2)\n",
    "plt.show()"
   ]
  },
  {
   "cell_type": "code",
   "execution_count": 11,
   "metadata": {},
   "outputs": [
    {
     "name": "stdout",
     "output_type": "stream",
     "text": [
      "The Mean squared error is 255.476\n",
      "The Mean absolute error is 12.612\n"
     ]
    }
   ],
   "source": [
    "# 執行 Function, 確認有沒有正常執行\n",
    "MSE = mean_squared_error(y, y_hat)\n",
    "MAE = mean_absolute_error(y, y_hat)\n",
    "print(\"The Mean squared error is %.3f\" % (MSE))\n",
    "print(\"The Mean absolute error is %.3f\" % (MAE))"
   ]
  },
  {
   "cell_type": "code",
   "execution_count": 12,
   "metadata": {},
   "outputs": [
    {
     "data": {
      "text/plain": [
       "array([  0.,   1.,   2.,   3.,   4.,   5.,   6.,   7.,   8.,   9.,  10.,\n",
       "        11.,  12.,  13.,  14.,  15.,  16.,  17.,  18.,  19.,  20.,  21.,\n",
       "        22.,  23.,  24.,  25.,  26.,  27.,  28.,  29.,  30.,  31.,  32.,\n",
       "        33.,  34.,  35.,  36.,  37.,  38.,  39.,  40.,  41.,  42.,  43.,\n",
       "        44.,  45.,  46.,  47.,  48.,  49.,  50.,  51.,  52.,  53.,  54.,\n",
       "        55.,  56.,  57.,  58.,  59.,  60.,  61.,  62.,  63.,  64.,  65.,\n",
       "        66.,  67.,  68.,  69.,  70.,  71.,  72.,  73.,  74.,  75.,  76.,\n",
       "        77.,  78.,  79.,  80.,  81.,  82.,  83.,  84.,  85.,  86.,  87.,\n",
       "        88.,  89.,  90.,  91.,  92.,  93.,  94.,  95.,  96.,  97.,  98.,\n",
       "        99., 100.])"
      ]
     },
     "execution_count": 12,
     "metadata": {},
     "output_type": "execute_result"
    }
   ],
   "source": [
    "x_lin"
   ]
  },
  {
   "cell_type": "code",
   "execution_count": 13,
   "metadata": {},
   "outputs": [
    {
     "data": {
      "text/plain": [
       "array([ 20.18805927,  -6.62131496, -18.76974948,  12.55892811,\n",
       "        22.08247185,  -2.391737  ,   4.38550246,  20.40358121,\n",
       "        32.00419681,  54.16237174,  16.22721795,  30.60576229,\n",
       "        46.22106306,  16.86116289,  26.93811938,  50.44571177,\n",
       "        42.03987487,  31.02040478,  49.77416489,  25.75969346,\n",
       "        36.17314845,  53.94940676,  63.60935208,  77.44812634,\n",
       "        80.04662657,  79.00910949,  73.92378144, 103.78297536,\n",
       "        92.18122471,  66.87252242,  99.7391825 ,  88.71359279,\n",
       "       126.50847969,  75.00447204, 105.0965155 , 116.74739127,\n",
       "        79.04930622, 135.39892053,  92.74679625, 124.3890121 ,\n",
       "       142.9982376 , 139.6915803 , 169.17218347, 146.15844956,\n",
       "       147.41554854, 140.46058728, 118.30276982, 148.57119629,\n",
       "       130.95752805, 118.92219613, 140.13320369, 187.02274787,\n",
       "       156.40613461, 175.92877043, 159.39982208, 164.22368246,\n",
       "       169.22708181, 202.7726516 , 155.84426872, 171.99715846,\n",
       "       177.50661488, 185.03109779, 178.26264735, 188.30419274,\n",
       "       204.41647467, 196.85484765, 198.14783198, 228.08753178,\n",
       "       198.06104552, 202.10736412, 196.14058671, 226.90063098,\n",
       "       211.01560365, 234.38593464, 203.83058413, 188.68117545,\n",
       "       226.64175283, 243.94576559, 251.9645875 , 211.22555939,\n",
       "       234.11309682, 236.76699767, 238.70303508, 248.54635427,\n",
       "       262.13385621, 253.75488022, 258.39361459, 263.25409493,\n",
       "       282.58040486, 251.61543865, 295.21894664, 293.05292953,\n",
       "       269.73001372, 250.00815225, 274.23872694, 270.81260917,\n",
       "       289.15570182, 278.16025923, 287.73653422, 297.88994142,\n",
       "       301.01826425])"
      ]
     },
     "execution_count": 13,
     "metadata": {},
     "output_type": "execute_result"
    }
   ],
   "source": [
    "y"
   ]
  },
  {
   "cell_type": "code",
   "execution_count": 14,
   "metadata": {},
   "outputs": [
    {
     "data": {
      "text/plain": [
       "array([  0.5,   3.5,   6.5,   9.5,  12.5,  15.5,  18.5,  21.5,  24.5,\n",
       "        27.5,  30.5,  33.5,  36.5,  39.5,  42.5,  45.5,  48.5,  51.5,\n",
       "        54.5,  57.5,  60.5,  63.5,  66.5,  69.5,  72.5,  75.5,  78.5,\n",
       "        81.5,  84.5,  87.5,  90.5,  93.5,  96.5,  99.5, 102.5, 105.5,\n",
       "       108.5, 111.5, 114.5, 117.5, 120.5, 123.5, 126.5, 129.5, 132.5,\n",
       "       135.5, 138.5, 141.5, 144.5, 147.5, 150.5, 153.5, 156.5, 159.5,\n",
       "       162.5, 165.5, 168.5, 171.5, 174.5, 177.5, 180.5, 183.5, 186.5,\n",
       "       189.5, 192.5, 195.5, 198.5, 201.5, 204.5, 207.5, 210.5, 213.5,\n",
       "       216.5, 219.5, 222.5, 225.5, 228.5, 231.5, 234.5, 237.5, 240.5,\n",
       "       243.5, 246.5, 249.5, 252.5, 255.5, 258.5, 261.5, 264.5, 267.5,\n",
       "       270.5, 273.5, 276.5, 279.5, 282.5, 285.5, 288.5, 291.5, 294.5,\n",
       "       297.5, 300.5])"
      ]
     },
     "execution_count": 14,
     "metadata": {},
     "output_type": "execute_result"
    }
   ],
   "source": [
    "y_hat"
   ]
  },
  {
   "cell_type": "code",
   "execution_count": null,
   "metadata": {},
   "outputs": [],
   "source": []
  }
 ],
 "metadata": {
  "anaconda-cloud": {},
  "kernelspec": {
   "display_name": "Python 3",
   "language": "python",
   "name": "python3"
  },
  "language_info": {
   "codemirror_mode": {
    "name": "ipython",
    "version": 3
   },
   "file_extension": ".py",
   "mimetype": "text/x-python",
   "name": "python",
   "nbconvert_exporter": "python",
   "pygments_lexer": "ipython3",
   "version": "3.6.5"
  }
 },
 "nbformat": 4,
 "nbformat_minor": 1
}
